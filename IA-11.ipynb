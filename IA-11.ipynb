{
 "cells": [
  {
   "cell_type": "markdown",
   "id": "4ee24960",
   "metadata": {},
   "source": [
    "### K-MEANS Avanzado: Evaluación y Selección de Clusters.\n",
    "\n",
    "Situación: Eres analaista en una cadena de retail. Tienes datos de 500 clientes con sus hábitos de compra y quieres segmentarlos para campañas de marketing personalizado. Necesitas determinar el número óptimo de clusters y validar la calidad de la segmentación."
   ]
  },
  {
   "cell_type": "markdown",
   "id": "a8ceaa05",
   "metadata": {},
   "source": [
    "#### Paso 1: Importaciones."
   ]
  },
  {
   "cell_type": "code",
   "execution_count": 1,
   "id": "4dafc780",
   "metadata": {},
   "outputs": [
    {
     "name": "stdout",
     "output_type": "stream",
     "text": [
      "Todas las librerías importadas correctamente.\n"
     ]
    }
   ],
   "source": [
    "import numpy as np\n",
    "import pandas as pd\n",
    "import matplotlib.pyplot as plt\n",
    "import seaborn as sns\n",
    "\n",
    "from sklearn.cluster import KMeans\n",
    "from sklearn.preprocessing import StandardScaler\n",
    "from sklearn.metrics import silhouette_score, calinski_harabasz_score, davies_bouldin_score\n",
    "from scipy.cluster.hierarchy import dendrogram, linkage, fcluster\n",
    "from sklearn.datasets import make_blobs\n",
    "\n",
    "print(\"Todas las librerías importadas correctamente.\")"
   ]
  },
  {
   "cell_type": "markdown",
   "id": "c10ed155",
   "metadata": {},
   "source": [
    "#### Paso 2: Generar Datos Sintéticos."
   ]
  },
  {
   "cell_type": "code",
   "execution_count": null,
   "id": "288ab1d5",
   "metadata": {},
   "outputs": [],
   "source": [
    "# Crear datos de clientes con 4 clusters naturales\n",
    "np.random.seed(42)\n",
    "n_clientes = 500"
   ]
  }
 ],
 "metadata": {
  "kernelspec": {
   "display_name": "Python 3",
   "language": "python",
   "name": "python3"
  },
  "language_info": {
   "codemirror_mode": {
    "name": "ipython",
    "version": 3
   },
   "file_extension": ".py",
   "mimetype": "text/x-python",
   "name": "python",
   "nbconvert_exporter": "python",
   "pygments_lexer": "ipython3",
   "version": "3.12.6"
  }
 },
 "nbformat": 4,
 "nbformat_minor": 5
}
