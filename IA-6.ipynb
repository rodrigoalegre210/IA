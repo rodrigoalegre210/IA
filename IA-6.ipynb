{
 "cells": [
  {
   "cell_type": "markdown",
   "id": "e14fed10",
   "metadata": {},
   "source": [
    "### Redes Neuronales con Capas Ocultas.\n",
    "\n",
    "Situación: Quieres predecir si un estudiante aprueba (1) o no (0) basado en horas de estudio y horas de sueño.\n",
    "\n",
    "Usarás una red neuronal con una capa oculta."
   ]
  },
  {
   "cell_type": "code",
   "execution_count": 5,
   "id": "cfe83a2b",
   "metadata": {},
   "outputs": [
    {
     "name": "stdout",
     "output_type": "stream",
     "text": [
      "Predicciones finales: [0.02560257 0.0328198  0.97466088 0.98386983 0.98379552]\n"
     ]
    }
   ],
   "source": [
    "import numpy as np\n",
    "\n",
    "# Datos: [horas_estudio, horas_sueño]\n",
    "X = np.array([[2, 8], [3, 7], [4, 6], [5, 5], [6, 4]])\n",
    "y = np.array([0, 0, 1, 1, 1]) # 0 = No aprueba, 1 = Aprueba\n",
    "\n",
    "# Hiperparámetros.\n",
    "tasa_aprendizaje = 0.1\n",
    "epocas = 10000\n",
    "\n",
    "# Inicializar pesos y sesgos (aleatorios)\n",
    "# Capa oculta: 2 neuronas\n",
    "pesos_entrada_oculta = np.random.randn(2, 2) # 2 entradas, 2 neuronas ocultas.\n",
    "bias_ocultas = np.random.randn(2)\n",
    "\n",
    "# Capa salida: 1 neurona.\n",
    "pesos_oculta_salida = np.random.randn(2, 1)\n",
    "bias_salida = np.random.randn(1)\n",
    "\n",
    "# Función de activación sigmoide\n",
    "def sigmoide(x):\n",
    "    return 1 / (1 + np.exp(-x))\n",
    "\n",
    "# Derivada de la sigmoide (para backpropagation)\n",
    "def derivada_sigmoide(x):\n",
    "    return x * (1 - x)\n",
    "\n",
    "# Entrenamiento\n",
    "for epoch in range(epocas):\n",
    "    # Forward propagation\n",
    "    # Capa oculta\n",
    "    z_oculta = np.dot(X, pesos_entrada_oculta) + bias_ocultas\n",
    "    activacion_oculta = sigmoide(z_oculta)\n",
    "\n",
    "    # Capa salida\n",
    "    z_salida = np.dot(activacion_oculta, pesos_oculta_salida) + bias_salida\n",
    "    activacion_salida = sigmoide(z_salida)\n",
    "\n",
    "    # Backpropagation\n",
    "    error = activacion_salida - y.reshape(-1, 1)\n",
    "\n",
    "    # Gradientes capa salida\n",
    "    delta_salida = error * derivada_sigmoide(activacion_salida)\n",
    "\n",
    "    # Gradientes capa oculta\n",
    "    error_oculta = delta_salida.dot(pesos_oculta_salida.T)\n",
    "    delta_oculta = error_oculta * derivada_sigmoide(activacion_oculta)\n",
    "\n",
    "    # Actualizar pesos y sesgos\n",
    "    pesos_oculta_salida -= tasa_aprendizaje * activacion_oculta.T.dot(delta_salida)\n",
    "    bias_salida -= tasa_aprendizaje * np.sum(delta_salida, axis = 0)\n",
    "\n",
    "    pesos_entrada_oculta -= tasa_aprendizaje * X.T.dot(delta_oculta)\n",
    "    bias_ocultas -= tasa_aprendizaje * np.sum(delta_oculta, axis = 0)\n",
    "\n",
    "# Predicción final\n",
    "predicciones = sigmoide(np.dot(sigmoide(np.dot(X, pesos_entrada_oculta) + bias_ocultas), pesos_oculta_salida) + bias_salida)\n",
    "print(\"Predicciones finales:\", predicciones.flatten())"
   ]
  },
  {
   "cell_type": "markdown",
   "id": "280a7389",
   "metadata": {},
   "source": [
    "* Forward propagation: Calcula las actividades capa por capa.\n",
    "* Backpropagation: Ajusta los pesos basado en el error.\n",
    "* Derivada de la sigmoide: Crucial para calcular gradientes."
   ]
  },
  {
   "cell_type": "markdown",
   "id": "a3095db4",
   "metadata": {},
   "source": [
    "Modifica el código para tener:\n",
    "\n",
    "1. 3 neuronas en la capa oculta.\n",
    "2. Función de activación ReLU en la capa oculta (y su derivada)."
   ]
  },
  {
   "cell_type": "code",
   "execution_count": 5,
   "id": "7b80dc6e",
   "metadata": {},
   "outputs": [
    {
     "name": "stdout",
     "output_type": "stream",
     "text": [
      "Predicciones finales: [0. 0. 0. 0. 0.]\n"
     ]
    }
   ],
   "source": [
    "import numpy as np\n",
    "\n",
    "# Datos\n",
    "X = np.array([[2, 8], [3, 7], [4, 6], [5, 5], [6, 4]])\n",
    "y = np.array([0, 0, 1, 1, 1])\n",
    "\n",
    "# Hiperparametros\n",
    "tasa_aprendizaje = 0.1\n",
    "epocas = 10000\n",
    "\n",
    "# Inicializar pesos y sesgos (aleatorios)\n",
    "# Capa oculta: 3 neuronas\n",
    "pesos_entrada_oculta = np.random.randn(2, 3)\n",
    "bias_ocultas = np.random.randn(3)\n",
    "\n",
    "# Capa salida\n",
    "pesos_oculta_salida = np.random.randn(3, 1)\n",
    "bias_salida = np.random.randn(1)\n",
    "\n",
    "# Activación ReLU\n",
    "def relu(x):\n",
    "    return np.maximum(0, x)\n",
    "\n",
    "# Derivada ReLU\n",
    "def derivada_relu(x):\n",
    "    return np.where(x > 0, 1, 0)\n",
    "\n",
    "# Entrenamiento\n",
    "for epoch in range(epocas):\n",
    "    # Forward propagation\n",
    "    # Capa oculta\n",
    "    z_oculta = np.dot(X, pesos_entrada_oculta) + bias_ocultas\n",
    "    activacion_oculta = relu(z_oculta)\n",
    "\n",
    "    # Capa salida\n",
    "    z_salida = np.dot(activacion_oculta, pesos_oculta_salida) + bias_salida\n",
    "    activacion_salida = relu(z_salida)\n",
    "\n",
    "    # Backpropagation\n",
    "    error = activacion_salida - y.reshape(-1, 1)\n",
    "\n",
    "    # Gradientes capa salida\n",
    "    delta_salida = error * derivada_relu(activacion_salida)\n",
    "\n",
    "    # Gradientes capa oculta\n",
    "    error_oculta = delta_salida.dot(pesos_oculta_salida.T)\n",
    "    delta_oculta = error_oculta * derivada_relu(activacion_oculta)\n",
    "\n",
    "    # Actualizar pesos y sesgos\n",
    "    pesos_oculta_salida -= tasa_aprendizaje * activacion_oculta.T.dot(delta_salida)\n",
    "    bias_salida -= tasa_aprendizaje * np.sum(delta_salida, axis = 0)\n",
    "\n",
    "# Predicción final\n",
    "predicciones = relu(np.dot(relu(np.dot(X, pesos_entrada_oculta) + bias_ocultas), pesos_oculta_salida) + bias_salida)\n",
    "print(\"Predicciones finales:\", predicciones.flatten())"
   ]
  },
  {
   "cell_type": "markdown",
   "id": "7200fbed",
   "metadata": {},
   "source": [
    "La red \"se murió\": todas las salidas quedaron en cero.\n",
    "\n",
    "Esto pasa porque:\n",
    "\n",
    "1. ReLU en la salida no es buena idea en clasificación binaria -> porque nunca empuja las salidas hacia \"probabilidad\". Se queda en valores arbitrarios, y si se saturan en 0, no hay gradiente.\n",
    "2. El problema del \"dying ReLU\": cuando todos los **z** son negativos en alguna capa, la ReLU los manda a 0, la derivada es 0 -> y ya no aprende más.\n",
    "\n",
    "En este caso, la arquitectura estándar para el problema debería ser:\n",
    "\n",
    "* Capa oculta: ReLU.\n",
    "* Capa de salida: Sigmoide (para binario) o Softmax (si fueran varias clases)."
   ]
  },
  {
   "cell_type": "markdown",
   "id": "98e95c2b",
   "metadata": {},
   "source": [
    "---"
   ]
  },
  {
   "cell_type": "markdown",
   "id": "c65cb635",
   "metadata": {},
   "source": [
    "### Optimización de Hiperparámetros con GridSearchCV\n",
    "\n",
    "Situación: Quieres encontrar los mejores hiperparámetros para un RandomForest que predice cáncer de mama."
   ]
  },
  {
   "cell_type": "code",
   "execution_count": 7,
   "id": "44c48e6f",
   "metadata": {},
   "outputs": [
    {
     "name": "stdout",
     "output_type": "stream",
     "text": [
      "Mejores parámetros: {'max_depth': None, 'min_samples_split': 2, 'n_estimators': 200}\n",
      "Mejor accuracy (validación): 0.9626373626373625\n",
      "Accuracy en test: 0.9649122807017544\n"
     ]
    }
   ],
   "source": [
    "from sklearn.datasets import load_breast_cancer\n",
    "from sklearn.ensemble import RandomForestClassifier\n",
    "from sklearn.metrics import accuracy_score\n",
    "from sklearn.model_selection import train_test_split, GridSearchCV\n",
    "\n",
    "# Cargar datos\n",
    "datos = load_breast_cancer()\n",
    "X = datos.data\n",
    "y = datos.target\n",
    "\n",
    "# Dividir los datos\n",
    "X_train, X_test, y_train, y_test = train_test_split(X, y, test_size = 0.2, random_state = 42)\n",
    "\n",
    "# Definir el modelo\n",
    "modelo = RandomForestClassifier(random_state = 42)\n",
    "\n",
    "# Definir la grilla de hiperparámetros\n",
    "param_grid = {\n",
    "    'n_estimators': [50, 100, 200], # Número de árboles\n",
    "    'max_depth': [None, 10, 20], # Profundidad máxima\n",
    "    'min_samples_split': [2, 5, 10] # Mínimo muestras para dividir un nodo\n",
    "}\n",
    "\n",
    "# Configurar GridSearchCV\n",
    "grid_search = GridSearchCV(\n",
    "    estimator = modelo,\n",
    "    param_grid = param_grid,\n",
    "    cv = 5, # 5-fold cross-validation\n",
    "    scoring = 'accuracy',\n",
    "    n_jobs = -1 # Usar todos los cores disponibles\n",
    ")\n",
    "\n",
    "# Ejecutar busqueda\n",
    "grid_search.fit(X_train, y_train)\n",
    "\n",
    "# Mejores parámetros\n",
    "print(\"Mejores parámetros:\", grid_search.best_params_)\n",
    "print(\"Mejor accuracy (validación):\", grid_search.best_score_)\n",
    "\n",
    "# Evaluar un test\n",
    "mejor_modelo = grid_search.best_estimator_\n",
    "y_pred = mejor_modelo.predict(X_test)\n",
    "print(\"Accuracy en test:\", accuracy_score(y_test, y_pred))"
   ]
  },
  {
   "cell_type": "markdown",
   "id": "c8be5c25",
   "metadata": {},
   "source": [
    "* GridSearchCV: Prueba todas las combinaciones de hiperparámetros.\n",
    "* cv = 5: Valida cada combinación con 5-fold cross-validation.\n",
    "* best_estimator_: El modelo ya entrenado con los mejores parámetros."
   ]
  },
  {
   "cell_type": "markdown",
   "id": "52c12228",
   "metadata": {},
   "source": [
    "Ejercicio:\n",
    "\n",
    "Usa GridSearchCV para optimizar:\n",
    "\n",
    "* max_depth y min_samples_split en un DecisionTreeClassifier.\n",
    "* Usa el dataset de iris (load_iris)"
   ]
  }
 ],
 "metadata": {
  "kernelspec": {
   "display_name": "Python 3",
   "language": "python",
   "name": "python3"
  },
  "language_info": {
   "codemirror_mode": {
    "name": "ipython",
    "version": 3
   },
   "file_extension": ".py",
   "mimetype": "text/x-python",
   "name": "python",
   "nbconvert_exporter": "python",
   "pygments_lexer": "ipython3",
   "version": "3.10.10"
  }
 },
 "nbformat": 4,
 "nbformat_minor": 5
}
