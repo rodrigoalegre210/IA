{
 "cells": [
  {
   "cell_type": "markdown",
   "id": "c13eae88",
   "metadata": {},
   "source": [
    "### Regresión logística + división de datos\n",
    "\n",
    "Ejercicio:\n",
    "\n",
    "Usa el dataset de cáncer de mama (load_breast_cancer) para:\n",
    "\n",
    "1. Dividir los datos en 70%-30% con estratificación (para mantener proporción de clases).\n",
    "2. Entrena una regresión logística con regularización L2 (penalty = 'l2').\n",
    "3. Calcular precisión en test y mostrar la matriz de confusión."
   ]
  },
  {
   "cell_type": "code",
   "execution_count": 2,
   "id": "e9b02767",
   "metadata": {},
   "outputs": [
    {
     "name": "stdout",
     "output_type": "stream",
     "text": [
      "Precisión: 0.9415204678362573\n",
      "[[ 56   8]\n",
      " [  2 105]]\n"
     ]
    },
    {
     "name": "stderr",
     "output_type": "stream",
     "text": [
      "c:\\Users\\PrancherC\\AppData\\Local\\Programs\\Python\\Python310\\lib\\site-packages\\sklearn\\linear_model\\_logistic.py:473: ConvergenceWarning: lbfgs failed to converge after 1000 iteration(s) (status=1):\n",
      "STOP: TOTAL NO. OF ITERATIONS REACHED LIMIT\n",
      "\n",
      "Increase the number of iterations to improve the convergence (max_iter=1000).\n",
      "You might also want to scale the data as shown in:\n",
      "    https://scikit-learn.org/stable/modules/preprocessing.html\n",
      "Please also refer to the documentation for alternative solver options:\n",
      "    https://scikit-learn.org/stable/modules/linear_model.html#logistic-regression\n",
      "  n_iter_i = _check_optimize_result(\n"
     ]
    }
   ],
   "source": [
    "from sklearn.datasets import load_breast_cancer\n",
    "from sklearn.linear_model import LogisticRegression\n",
    "from sklearn.model_selection import train_test_split\n",
    "from sklearn.metrics import accuracy_score, confusion_matrix\n",
    "\n",
    "data = load_breast_cancer()\n",
    "X, y = data.data, data.target\n",
    "\n",
    "X_train, X_test, y_train, y_test = train_test_split(X, y, test_size = 0.3, stratify = y, random_state = 42)\n",
    "\n",
    "modelo = LogisticRegression(penalty = 'l2', max_iter = 1000)\n",
    "modelo.fit(X_train, y_train)\n",
    "\n",
    "y_pred = modelo.predict(X_test)\n",
    "\n",
    "print('Precisión:', accuracy_score(y_test, y_pred))\n",
    "print(confusion_matrix(y_test, y_pred))"
   ]
  },
  {
   "cell_type": "markdown",
   "id": "d1494582",
   "metadata": {},
   "source": [
    "---"
   ]
  },
  {
   "cell_type": "markdown",
   "id": "ee1967ef",
   "metadata": {},
   "source": [
    "### K-Means + NumPy\n",
    "\n",
    "Ejercicio:\n",
    "\n",
    "Genera datos sintéticos con 3 clusters usando NumPy y aplícales K-Means"
   ]
  },
  {
   "cell_type": "code",
   "execution_count": null,
   "id": "f0d3a9a5",
   "metadata": {},
   "outputs": [],
   "source": [
    "import numpy as np\n",
    "\n",
    "from sklearn.cluster import KMeans\n",
    "\n",
    "# Generar datos\n",
    "cluster1 = np.random.normal(loc = [0, 0], scale = 0.5, size = (50, 2))\n",
    "cluster2 = np.random.normal(loc = [5, 5], scale = 0.5, size = (50, 2))\n",
    "cluster3 = np.random.normal(loc = [-5, 5], scale = 0.5, size = (50, 2))\n",
    "\n",
    "X = np.vstack([cluster1, cluster2, cluster3])"
   ]
  }
 ],
 "metadata": {
  "kernelspec": {
   "display_name": "Python 3",
   "language": "python",
   "name": "python3"
  },
  "language_info": {
   "codemirror_mode": {
    "name": "ipython",
    "version": 3
   },
   "file_extension": ".py",
   "mimetype": "text/x-python",
   "name": "python",
   "nbconvert_exporter": "python",
   "pygments_lexer": "ipython3",
   "version": "3.10.10"
  }
 },
 "nbformat": 4,
 "nbformat_minor": 5
}
