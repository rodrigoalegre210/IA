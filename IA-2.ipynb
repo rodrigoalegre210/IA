{
 "cells": [
  {
   "cell_type": "markdown",
   "id": "3c60a1cb",
   "metadata": {},
   "source": [
    "### NumPy para IA: Dominando arreglos multidimensionales.\n",
    "\n",
    "Concepto clave: NumPy es la base de todo en IA (TensorFlow/Pytorch usan su lógica).\n",
    "\n",
    "Ejemplo 1.1: Manipulación de datos.\n",
    "\n",
    "Situación: Tienes datos de 3 sensores que midel temperatura (°C) cada hora."
   ]
  },
  {
   "cell_type": "code",
   "execution_count": 8,
   "id": "d43b7fa2",
   "metadata": {},
   "outputs": [
    {
     "name": "stdout",
     "output_type": "stream",
     "text": [
      "Media de sensores: [25.23333333 26.13333333 24.93333333]\n",
      "Temperatura máxima por hora: [26.1 25.  27.3]\n"
     ]
    }
   ],
   "source": [
    "import numpy as np\n",
    "\n",
    "# Crear array 2D: filas = horas, columnas = sensores\n",
    "datos = np.array([\n",
    "    [25.3, 26.1, 24.8], # Hora 1\n",
    "    [23.9, 25.0, 24.1], # Hora 2\n",
    "    [26.5, 27.3, 25.9]  # Hora 3\n",
    "])\n",
    "\n",
    "# Operaciones clave\n",
    "media_sensores = np.mean(datos, axis = 0) # Media por sensor (columnas)\n",
    "max_hora = np.max(datos, axis = 1) # Máximo por hora (filas)\n",
    "\n",
    "print(\"Media de sensores:\", media_sensores)\n",
    "print(\"Temperatura máxima por hora:\", max_hora)"
   ]
  }
 ],
 "metadata": {
  "kernelspec": {
   "display_name": "Python 3",
   "language": "python",
   "name": "python3"
  },
  "language_info": {
   "codemirror_mode": {
    "name": "ipython",
    "version": 3
   },
   "file_extension": ".py",
   "mimetype": "text/x-python",
   "name": "python",
   "nbconvert_exporter": "python",
   "pygments_lexer": "ipython3",
   "version": "3.10.10"
  }
 },
 "nbformat": 4,
 "nbformat_minor": 5
}
