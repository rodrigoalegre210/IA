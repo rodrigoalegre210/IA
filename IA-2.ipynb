{
 "cells": [
  {
   "cell_type": "markdown",
   "id": "3c60a1cb",
   "metadata": {},
   "source": [
    "### NumPy para IA: Dominando arreglos multidimensionales.\n",
    "\n",
    "Concepto clave: NumPy es la base de todo en IA (TensorFlow/Pytorch usan su lógica).\n",
    "\n",
    "Ejemplo 1.1: Manipulación de datos.\n",
    "\n",
    "Situación: Tienes datos de 3 sensores que midel temperatura (°C) cada hora."
   ]
  },
  {
   "cell_type": "code",
   "execution_count": 8,
   "id": "d43b7fa2",
   "metadata": {},
   "outputs": [
    {
     "name": "stdout",
     "output_type": "stream",
     "text": [
      "Media de sensores: [25.23333333 26.13333333 24.93333333]\n",
      "Temperatura máxima por hora: [26.1 25.  27.3]\n"
     ]
    }
   ],
   "source": [
    "import numpy as np\n",
    "\n",
    "# Crear array 2D: filas = horas, columnas = sensores\n",
    "datos = np.array([\n",
    "    [25.3, 26.1, 24.8], # Hora 1\n",
    "    [23.9, 25.0, 24.1], # Hora 2\n",
    "    [26.5, 27.3, 25.9]  # Hora 3\n",
    "])\n",
    "\n",
    "# Operaciones clave\n",
    "media_sensores = np.mean(datos, axis = 0) # Media por sensor (columnas)\n",
    "max_hora = np.max(datos, axis = 1) # Máximo por hora (filas)\n",
    "\n",
    "print(\"Media de sensores:\", media_sensores)\n",
    "print(\"Temperatura máxima por hora:\", max_hora)"
   ]
  },
  {
   "cell_type": "markdown",
   "id": "f9b4fa70",
   "metadata": {},
   "source": [
    "### Ejercicio 1.1\n",
    "\n",
    "Dado este array:"
   ]
  },
  {
   "cell_type": "code",
   "execution_count": null,
   "id": "ec9c34cb",
   "metadata": {},
   "outputs": [],
   "source": [
    "ventas = np.array([\n",
    "    [120, 95, 200],  # Semana 1 (Lun, Mar, Mié)\n",
    "    [130, 110, 180]   # Semana 2\n",
    "])"
   ]
  },
  {
   "cell_type": "markdown",
   "id": "fdff3c16",
   "metadata": {},
   "source": [
    "1. Calcula el total de ventas por semana.\n",
    "2. Encuentra el día con más ventas en total (entre semanas)."
   ]
  },
  {
   "cell_type": "code",
   "execution_count": 13,
   "id": "cd297c65",
   "metadata": {},
   "outputs": [
    {
     "name": "stdout",
     "output_type": "stream",
     "text": [
      "Total de ventas por semana: [415 420]\n",
      "Día con más ventas: 2\n"
     ]
    }
   ],
   "source": [
    "import numpy as np\n",
    "\n",
    "ventas = np.array([\n",
    "    [120, 95, 200],\n",
    "    [130, 110, 180]\n",
    "])\n",
    "\n",
    "total_ventas = np.sum(ventas, axis = 1)\n",
    "dia_max = np.max(ventas, axis = 0)\n",
    "dia_ganador = np.argmax(dia_max)\n",
    "\n",
    "print(\"Total de ventas por semana:\", total_ventas)\n",
    "print(\"Día con más ventas:\", dia_ganador)"
   ]
  }
 ],
 "metadata": {
  "kernelspec": {
   "display_name": "Python 3",
   "language": "python",
   "name": "python3"
  },
  "language_info": {
   "codemirror_mode": {
    "name": "ipython",
    "version": 3
   },
   "file_extension": ".py",
   "mimetype": "text/x-python",
   "name": "python",
   "nbconvert_exporter": "python",
   "pygments_lexer": "ipython3",
   "version": "3.10.10"
  }
 },
 "nbformat": 4,
 "nbformat_minor": 5
}
