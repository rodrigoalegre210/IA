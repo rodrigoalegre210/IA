{
 "cells": [
  {
   "cell_type": "markdown",
   "id": "f9059bac",
   "metadata": {},
   "source": [
    "### Redes Neuronales Avanzadas con Keras\n",
    "\n",
    "Situación: Eres científico de datos en una empresa de telecomunicaciones. Quieres predecir la tasa de abandono de clientes (churn) con una red neuronal profunda. El dataset tiene 10 características demográficas y de uso."
   ]
  },
  {
   "cell_type": "markdown",
   "id": "b8f2ad5e",
   "metadata": {},
   "source": [
    "#### 1. Importaciones."
   ]
  },
  {
   "cell_type": "code",
   "execution_count": 1,
   "id": "dd0dd44e",
   "metadata": {},
   "outputs": [
    {
     "name": "stdout",
     "output_type": "stream",
     "text": [
      "TensorFlow version: 2.18.0\n"
     ]
    }
   ],
   "source": [
    "import numpy as np\n",
    "import pandas as pd\n",
    "import matplotlib.pyplot as plt\n",
    "import seaborn as sns\n",
    "\n",
    "from sklearn.model_selection import train_test_split\n",
    "from sklearn.preprocessing import StandardScaler\n",
    "from sklearn.metrics import classification_report, confusion_matrix\n",
    "\n",
    "import tensorflow as tf\n",
    "from tensorflow.keras.models import Sequential\n",
    "from tensorflow.keras.layers import Dense, Dropout\n",
    "from tensorflow.keras.callbacks import EarlyStopping\n",
    "from tensorflow.keras.optimizers import Adam\n",
    "\n",
    "print(f\"TensorFlow version: {tf.__version__}\")"
   ]
  },
  {
   "cell_type": "markdown",
   "id": "ad729d22",
   "metadata": {},
   "source": [
    "### 2. Generar Datos Sintéticos Realistas."
   ]
  },
  {
   "cell_type": "code",
   "execution_count": 2,
   "id": "26e621c2",
   "metadata": {},
   "outputs": [
    {
     "name": "stdout",
     "output_type": "stream",
     "text": [
      "Distribución de churn:\n",
      "churn\n",
      "0    643\n",
      "1    357\n",
      "Name: count, dtype: int64\n",
      "\n",
      "Primeras 5 filas:\n"
     ]
    },
    {
     "data": {
      "text/html": [
       "<div>\n",
       "<style scoped>\n",
       "    .dataframe tbody tr th:only-of-type {\n",
       "        vertical-align: middle;\n",
       "    }\n",
       "\n",
       "    .dataframe tbody tr th {\n",
       "        vertical-align: top;\n",
       "    }\n",
       "\n",
       "    .dataframe thead th {\n",
       "        text-align: right;\n",
       "    }\n",
       "</style>\n",
       "<table border=\"1\" class=\"dataframe\">\n",
       "  <thead>\n",
       "    <tr style=\"text-align: right;\">\n",
       "      <th></th>\n",
       "      <th>edad</th>\n",
       "      <th>meses_contrato</th>\n",
       "      <th>gastos_mensual</th>\n",
       "      <th>llamadas_atencion</th>\n",
       "      <th>churn</th>\n",
       "    </tr>\n",
       "  </thead>\n",
       "  <tbody>\n",
       "    <tr>\n",
       "      <th>0</th>\n",
       "      <td>56</td>\n",
       "      <td>11</td>\n",
       "      <td>100.346356</td>\n",
       "      <td>7</td>\n",
       "      <td>1</td>\n",
       "    </tr>\n",
       "    <tr>\n",
       "      <th>1</th>\n",
       "      <td>69</td>\n",
       "      <td>26</td>\n",
       "      <td>175.558912</td>\n",
       "      <td>5</td>\n",
       "      <td>1</td>\n",
       "    </tr>\n",
       "    <tr>\n",
       "      <th>2</th>\n",
       "      <td>46</td>\n",
       "      <td>63</td>\n",
       "      <td>120.465245</td>\n",
       "      <td>0</td>\n",
       "      <td>0</td>\n",
       "    </tr>\n",
       "    <tr>\n",
       "      <th>3</th>\n",
       "      <td>32</td>\n",
       "      <td>59</td>\n",
       "      <td>117.183051</td>\n",
       "      <td>3</td>\n",
       "      <td>0</td>\n",
       "    </tr>\n",
       "    <tr>\n",
       "      <th>4</th>\n",
       "      <td>60</td>\n",
       "      <td>27</td>\n",
       "      <td>26.153798</td>\n",
       "      <td>0</td>\n",
       "      <td>1</td>\n",
       "    </tr>\n",
       "  </tbody>\n",
       "</table>\n",
       "</div>"
      ],
      "text/plain": [
       "   edad  meses_contrato  gastos_mensual  llamadas_atencion  churn\n",
       "0    56              11      100.346356                  7      1\n",
       "1    69              26      175.558912                  5      1\n",
       "2    46              63      120.465245                  0      0\n",
       "3    32              59      117.183051                  3      0\n",
       "4    60              27       26.153798                  0      1"
      ]
     },
     "execution_count": 2,
     "metadata": {},
     "output_type": "execute_result"
    }
   ],
   "source": [
    "# Crear dataset de 1000 clientes\n",
    "np.random.seed(42)\n",
    "n = 1000\n",
    "\n",
    "# Características\n",
    "edad = np.random.randint(18, 80, n)\n",
    "meses_contrato = np.random.randint(1, 72, n)\n",
    "gastos_mensual = np.random.uniform(20, 200, n)\n",
    "llamadas_atencion = np.random.randint(0, 10, n)\n",
    "\n",
    "# Crear variable target (churn) con relación no lineal.\n",
    "churn_prob = 1 / (1 + np.exp(-(0.05 * edad - 0.1 * meses_contrato + 0.02 * gastos_mensual - 0.5 * llamadas_atencion)))\n",
    "churn = (churn_prob > 0.5).astype(int)\n",
    "\n",
    "# DataFrame completo\n",
    "df_churn = pd.DataFrame({\n",
    "    'edad': edad,\n",
    "    'meses_contrato': meses_contrato,\n",
    "    'gastos_mensual': gastos_mensual,\n",
    "    'llamadas_atencion': llamadas_atencion,\n",
    "    'churn': churn\n",
    "})\n",
    "\n",
    "print(\"Distribución de churn:\")\n",
    "print(df_churn['churn'].value_counts())\n",
    "print(f\"\\nPrimeras 5 filas:\")\n",
    "df_churn.head()"
   ]
  },
  {
   "cell_type": "markdown",
   "id": "86f142ec",
   "metadata": {},
   "source": [
    "#### 3. Preprocesamiento y División de Datos."
   ]
  },
  {
   "cell_type": "code",
   "execution_count": 3,
   "id": "8b2f6f0f",
   "metadata": {},
   "outputs": [
    {
     "name": "stdout",
     "output_type": "stream",
     "text": [
      "Forma de X_train: (800, 4)\n",
      "Forma de X_test: (200, 4)\n"
     ]
    }
   ],
   "source": [
    "# Separar características y target\n",
    "X = df_churn.drop('churn', axis = 1)\n",
    "y = df_churn['churn']\n",
    "\n",
    "# Estandarizar caracteristicas\n",
    "scaler = StandardScaler()\n",
    "X_scaled = scaler.fit_transform(X)\n",
    "\n",
    "# Dividir en entrenamiento y prueba\n",
    "X_train, X_test, y_train, y_test = train_test_split(X_scaled, y, test_size = 0.2, random_state = 42, stratify = y)\n",
    "\n",
    "print(f\"Forma de X_train: {X_train.shape}\")\n",
    "print(f\"Forma de X_test: {X_test.shape}\")"
   ]
  },
  {
   "cell_type": "markdown",
   "id": "c6abd885",
   "metadata": {},
   "source": [
    "#### 4. Construir Red Neuronal Avanzada."
   ]
  },
  {
   "cell_type": "code",
   "execution_count": 4,
   "id": "59ad3836",
   "metadata": {},
   "outputs": [
    {
     "name": "stderr",
     "output_type": "stream",
     "text": [
      "c:\\Users\\PrancherC\\AppData\\Local\\Programs\\Python\\Python310\\lib\\site-packages\\keras\\src\\layers\\core\\dense.py:87: UserWarning: Do not pass an `input_shape`/`input_dim` argument to a layer. When using Sequential models, prefer using an `Input(shape)` object as the first layer in the model instead.\n",
      "  bias_constraint=None,\n"
     ]
    },
    {
     "data": {
      "text/html": [
       "<pre style=\"white-space:pre;overflow-x:auto;line-height:normal;font-family:Menlo,'DejaVu Sans Mono',consolas,'Courier New',monospace\"><span style=\"font-weight: bold\">Model: \"sequential\"</span>\n",
       "</pre>\n"
      ],
      "text/plain": [
       "\u001b[1mModel: \"sequential\"\u001b[0m\n"
      ]
     },
     "metadata": {},
     "output_type": "display_data"
    },
    {
     "data": {
      "text/html": [
       "<pre style=\"white-space:pre;overflow-x:auto;line-height:normal;font-family:Menlo,'DejaVu Sans Mono',consolas,'Courier New',monospace\">┏━━━━━━━━━━━━━━━━━━━━━━━━━━━━━━━━━┳━━━━━━━━━━━━━━━━━━━━━━━━┳━━━━━━━━━━━━━━━┓\n",
       "┃<span style=\"font-weight: bold\"> Layer (type)                    </span>┃<span style=\"font-weight: bold\"> Output Shape           </span>┃<span style=\"font-weight: bold\">       Param # </span>┃\n",
       "┡━━━━━━━━━━━━━━━━━━━━━━━━━━━━━━━━━╇━━━━━━━━━━━━━━━━━━━━━━━━╇━━━━━━━━━━━━━━━┩\n",
       "│ capa_entrada (<span style=\"color: #0087ff; text-decoration-color: #0087ff\">Dense</span>)            │ (<span style=\"color: #00d7ff; text-decoration-color: #00d7ff\">None</span>, <span style=\"color: #00af00; text-decoration-color: #00af00\">64</span>)             │           <span style=\"color: #00af00; text-decoration-color: #00af00\">320</span> │\n",
       "├─────────────────────────────────┼────────────────────────┼───────────────┤\n",
       "│ dropout (<span style=\"color: #0087ff; text-decoration-color: #0087ff\">Dropout</span>)               │ (<span style=\"color: #00d7ff; text-decoration-color: #00d7ff\">None</span>, <span style=\"color: #00af00; text-decoration-color: #00af00\">64</span>)             │             <span style=\"color: #00af00; text-decoration-color: #00af00\">0</span> │\n",
       "├─────────────────────────────────┼────────────────────────┼───────────────┤\n",
       "│ capa_oculta_1 (<span style=\"color: #0087ff; text-decoration-color: #0087ff\">Dense</span>)           │ (<span style=\"color: #00d7ff; text-decoration-color: #00d7ff\">None</span>, <span style=\"color: #00af00; text-decoration-color: #00af00\">32</span>)             │         <span style=\"color: #00af00; text-decoration-color: #00af00\">2,080</span> │\n",
       "├─────────────────────────────────┼────────────────────────┼───────────────┤\n",
       "│ dropout_1 (<span style=\"color: #0087ff; text-decoration-color: #0087ff\">Dropout</span>)             │ (<span style=\"color: #00d7ff; text-decoration-color: #00d7ff\">None</span>, <span style=\"color: #00af00; text-decoration-color: #00af00\">32</span>)             │             <span style=\"color: #00af00; text-decoration-color: #00af00\">0</span> │\n",
       "├─────────────────────────────────┼────────────────────────┼───────────────┤\n",
       "│ capa_oculta2 (<span style=\"color: #0087ff; text-decoration-color: #0087ff\">Dense</span>)            │ (<span style=\"color: #00d7ff; text-decoration-color: #00d7ff\">None</span>, <span style=\"color: #00af00; text-decoration-color: #00af00\">16</span>)             │           <span style=\"color: #00af00; text-decoration-color: #00af00\">528</span> │\n",
       "├─────────────────────────────────┼────────────────────────┼───────────────┤\n",
       "│ capa_salida (<span style=\"color: #0087ff; text-decoration-color: #0087ff\">Dense</span>)             │ (<span style=\"color: #00d7ff; text-decoration-color: #00d7ff\">None</span>, <span style=\"color: #00af00; text-decoration-color: #00af00\">1</span>)              │            <span style=\"color: #00af00; text-decoration-color: #00af00\">17</span> │\n",
       "└─────────────────────────────────┴────────────────────────┴───────────────┘\n",
       "</pre>\n"
      ],
      "text/plain": [
       "┏━━━━━━━━━━━━━━━━━━━━━━━━━━━━━━━━━┳━━━━━━━━━━━━━━━━━━━━━━━━┳━━━━━━━━━━━━━━━┓\n",
       "┃\u001b[1m \u001b[0m\u001b[1mLayer (type)                   \u001b[0m\u001b[1m \u001b[0m┃\u001b[1m \u001b[0m\u001b[1mOutput Shape          \u001b[0m\u001b[1m \u001b[0m┃\u001b[1m \u001b[0m\u001b[1m      Param #\u001b[0m\u001b[1m \u001b[0m┃\n",
       "┡━━━━━━━━━━━━━━━━━━━━━━━━━━━━━━━━━╇━━━━━━━━━━━━━━━━━━━━━━━━╇━━━━━━━━━━━━━━━┩\n",
       "│ capa_entrada (\u001b[38;5;33mDense\u001b[0m)            │ (\u001b[38;5;45mNone\u001b[0m, \u001b[38;5;34m64\u001b[0m)             │           \u001b[38;5;34m320\u001b[0m │\n",
       "├─────────────────────────────────┼────────────────────────┼───────────────┤\n",
       "│ dropout (\u001b[38;5;33mDropout\u001b[0m)               │ (\u001b[38;5;45mNone\u001b[0m, \u001b[38;5;34m64\u001b[0m)             │             \u001b[38;5;34m0\u001b[0m │\n",
       "├─────────────────────────────────┼────────────────────────┼───────────────┤\n",
       "│ capa_oculta_1 (\u001b[38;5;33mDense\u001b[0m)           │ (\u001b[38;5;45mNone\u001b[0m, \u001b[38;5;34m32\u001b[0m)             │         \u001b[38;5;34m2,080\u001b[0m │\n",
       "├─────────────────────────────────┼────────────────────────┼───────────────┤\n",
       "│ dropout_1 (\u001b[38;5;33mDropout\u001b[0m)             │ (\u001b[38;5;45mNone\u001b[0m, \u001b[38;5;34m32\u001b[0m)             │             \u001b[38;5;34m0\u001b[0m │\n",
       "├─────────────────────────────────┼────────────────────────┼───────────────┤\n",
       "│ capa_oculta2 (\u001b[38;5;33mDense\u001b[0m)            │ (\u001b[38;5;45mNone\u001b[0m, \u001b[38;5;34m16\u001b[0m)             │           \u001b[38;5;34m528\u001b[0m │\n",
       "├─────────────────────────────────┼────────────────────────┼───────────────┤\n",
       "│ capa_salida (\u001b[38;5;33mDense\u001b[0m)             │ (\u001b[38;5;45mNone\u001b[0m, \u001b[38;5;34m1\u001b[0m)              │            \u001b[38;5;34m17\u001b[0m │\n",
       "└─────────────────────────────────┴────────────────────────┴───────────────┘\n"
      ]
     },
     "metadata": {},
     "output_type": "display_data"
    },
    {
     "data": {
      "text/html": [
       "<pre style=\"white-space:pre;overflow-x:auto;line-height:normal;font-family:Menlo,'DejaVu Sans Mono',consolas,'Courier New',monospace\"><span style=\"font-weight: bold\"> Total params: </span><span style=\"color: #00af00; text-decoration-color: #00af00\">2,945</span> (11.50 KB)\n",
       "</pre>\n"
      ],
      "text/plain": [
       "\u001b[1m Total params: \u001b[0m\u001b[38;5;34m2,945\u001b[0m (11.50 KB)\n"
      ]
     },
     "metadata": {},
     "output_type": "display_data"
    },
    {
     "data": {
      "text/html": [
       "<pre style=\"white-space:pre;overflow-x:auto;line-height:normal;font-family:Menlo,'DejaVu Sans Mono',consolas,'Courier New',monospace\"><span style=\"font-weight: bold\"> Trainable params: </span><span style=\"color: #00af00; text-decoration-color: #00af00\">2,945</span> (11.50 KB)\n",
       "</pre>\n"
      ],
      "text/plain": [
       "\u001b[1m Trainable params: \u001b[0m\u001b[38;5;34m2,945\u001b[0m (11.50 KB)\n"
      ]
     },
     "metadata": {},
     "output_type": "display_data"
    },
    {
     "data": {
      "text/html": [
       "<pre style=\"white-space:pre;overflow-x:auto;line-height:normal;font-family:Menlo,'DejaVu Sans Mono',consolas,'Courier New',monospace\"><span style=\"font-weight: bold\"> Non-trainable params: </span><span style=\"color: #00af00; text-decoration-color: #00af00\">0</span> (0.00 B)\n",
       "</pre>\n"
      ],
      "text/plain": [
       "\u001b[1m Non-trainable params: \u001b[0m\u001b[38;5;34m0\u001b[0m (0.00 B)\n"
      ]
     },
     "metadata": {},
     "output_type": "display_data"
    }
   ],
   "source": [
    "# Crear modelo secuencial\n",
    "model = Sequential()\n",
    "\n",
    "# Capa de entrada y primera capa oculta\n",
    "model.add(Dense(64, input_dim = X_train.shape[1], activation = 'relu', name = 'capa_entrada'))\n",
    "model.add(Dropout(0.3)) # Dropout para regularización\n",
    "\n",
    "# Segunda capa oculta\n",
    "model.add(Dense(32, activation = 'relu', name = 'capa_oculta_1'))\n",
    "model.add(Dropout(0.3))\n",
    "\n",
    "# Tercera capa oculta\n",
    "model.add(Dense(16, activation = 'relu', name = 'capa_oculta2'))\n",
    "\n",
    "# Capa de salida (clasificación binaria)\n",
    "model.add(Dense(1, activation = 'sigmoid', name = 'capa_salida'))\n",
    "\n",
    "# Compilar modelo\n",
    "model.compile(\n",
    "    optimizer = Adam(learning_rate = 0.001),\n",
    "    loss = 'binary_crossentropy',\n",
    "    metrics = ['accuracy', 'precision', 'recall']\n",
    ")\n",
    "\n",
    "# Resumen del modelo\n",
    "model.summary()"
   ]
  },
  {
   "cell_type": "markdown",
   "id": "730c359c",
   "metadata": {},
   "source": [
    "#### 5. Entrenamiento con Early Stopping"
   ]
  },
  {
   "cell_type": "code",
   "execution_count": 5,
   "id": "39c09d99",
   "metadata": {},
   "outputs": [
    {
     "name": "stdout",
     "output_type": "stream",
     "text": [
      "Epoch 1/100\n",
      "\u001b[1m20/20\u001b[0m \u001b[32m━━━━━━━━━━━━━━━━━━━━\u001b[0m\u001b[37m\u001b[0m \u001b[1m4s\u001b[0m 38ms/step - accuracy: 0.3938 - loss: 0.7355 - precision: 0.2737 - recall: 0.3949 - val_accuracy: 0.6812 - val_loss: 0.6657 - val_precision: 0.6176 - val_recall: 0.3559\n",
      "Epoch 2/100\n",
      "\u001b[1m20/20\u001b[0m \u001b[32m━━━━━━━━━━━━━━━━━━━━\u001b[0m\u001b[37m\u001b[0m \u001b[1m0s\u001b[0m 11ms/step - accuracy: 0.7108 - loss: 0.6333 - precision: 0.6103 - recall: 0.4350 - val_accuracy: 0.8313 - val_loss: 0.5618 - val_precision: 0.9444 - val_recall: 0.5763\n",
      "Epoch 3/100\n",
      "\u001b[1m20/20\u001b[0m \u001b[32m━━━━━━━━━━━━━━━━━━━━\u001b[0m\u001b[37m\u001b[0m \u001b[1m0s\u001b[0m 10ms/step - accuracy: 0.8524 - loss: 0.5184 - precision: 0.9142 - recall: 0.6355 - val_accuracy: 0.9187 - val_loss: 0.4082 - val_precision: 0.9423 - val_recall: 0.8305\n",
      "Epoch 4/100\n",
      "\u001b[1m20/20\u001b[0m \u001b[32m━━━━━━━━━━━━━━━━━━━━\u001b[0m\u001b[37m\u001b[0m \u001b[1m0s\u001b[0m 10ms/step - accuracy: 0.8827 - loss: 0.4030 - precision: 0.8822 - recall: 0.7897 - val_accuracy: 0.9563 - val_loss: 0.2627 - val_precision: 0.9643 - val_recall: 0.9153\n",
      "Epoch 5/100\n",
      "\u001b[1m20/20\u001b[0m \u001b[32m━━━━━━━━━━━━━━━━━━━━\u001b[0m\u001b[37m\u001b[0m \u001b[1m0s\u001b[0m 14ms/step - accuracy: 0.9098 - loss: 0.3031 - precision: 0.9106 - recall: 0.8234 - val_accuracy: 0.9688 - val_loss: 0.1723 - val_precision: 0.9655 - val_recall: 0.9492\n",
      "Epoch 6/100\n",
      "\u001b[1m20/20\u001b[0m \u001b[32m━━━━━━━━━━━━━━━━━━━━\u001b[0m\u001b[37m\u001b[0m \u001b[1m0s\u001b[0m 10ms/step - accuracy: 0.9166 - loss: 0.2419 - precision: 0.8962 - recall: 0.8584 - val_accuracy: 0.9875 - val_loss: 0.1297 - val_precision: 0.9672 - val_recall: 1.0000\n",
      "Epoch 7/100\n",
      "\u001b[1m20/20\u001b[0m \u001b[32m━━━━━━━━━━━━━━━━━━━━\u001b[0m\u001b[37m\u001b[0m \u001b[1m0s\u001b[0m 10ms/step - accuracy: 0.9389 - loss: 0.1878 - precision: 0.9067 - recall: 0.9239 - val_accuracy: 0.9750 - val_loss: 0.1024 - val_precision: 0.9661 - val_recall: 0.9661\n",
      "Epoch 8/100\n",
      "\u001b[1m20/20\u001b[0m \u001b[32m━━━━━━━━━━━━━━━━━━━━\u001b[0m\u001b[37m\u001b[0m \u001b[1m0s\u001b[0m 12ms/step - accuracy: 0.9256 - loss: 0.1793 - precision: 0.8962 - recall: 0.8872 - val_accuracy: 0.9750 - val_loss: 0.0860 - val_precision: 0.9661 - val_recall: 0.9661\n",
      "Epoch 9/100\n",
      "\u001b[1m20/20\u001b[0m \u001b[32m━━━━━━━━━━━━━━━━━━━━\u001b[0m\u001b[37m\u001b[0m \u001b[1m0s\u001b[0m 10ms/step - accuracy: 0.9342 - loss: 0.1497 - precision: 0.9118 - recall: 0.9035 - val_accuracy: 0.9812 - val_loss: 0.0779 - val_precision: 0.9667 - val_recall: 0.9831\n",
      "Epoch 10/100\n",
      "\u001b[1m20/20\u001b[0m \u001b[32m━━━━━━━━━━━━━━━━━━━━\u001b[0m\u001b[37m\u001b[0m \u001b[1m0s\u001b[0m 10ms/step - accuracy: 0.9438 - loss: 0.1256 - precision: 0.9089 - recall: 0.9229 - val_accuracy: 0.9875 - val_loss: 0.0692 - val_precision: 0.9672 - val_recall: 1.0000\n",
      "Epoch 11/100\n",
      "\u001b[1m20/20\u001b[0m \u001b[32m━━━━━━━━━━━━━━━━━━━━\u001b[0m\u001b[37m\u001b[0m \u001b[1m0s\u001b[0m 10ms/step - accuracy: 0.9471 - loss: 0.1390 - precision: 0.9337 - recall: 0.9119 - val_accuracy: 0.9875 - val_loss: 0.0690 - val_precision: 0.9672 - val_recall: 1.0000\n",
      "Epoch 12/100\n",
      "\u001b[1m20/20\u001b[0m \u001b[32m━━━━━━━━━━━━━━━━━━━━\u001b[0m\u001b[37m\u001b[0m \u001b[1m0s\u001b[0m 10ms/step - accuracy: 0.9621 - loss: 0.1032 - precision: 0.9473 - recall: 0.9485 - val_accuracy: 0.9812 - val_loss: 0.0604 - val_precision: 0.9828 - val_recall: 0.9661\n",
      "Epoch 13/100\n",
      "\u001b[1m20/20\u001b[0m \u001b[32m━━━━━━━━━━━━━━━━━━━━\u001b[0m\u001b[37m\u001b[0m \u001b[1m0s\u001b[0m 11ms/step - accuracy: 0.9496 - loss: 0.1037 - precision: 0.9450 - recall: 0.9095 - val_accuracy: 0.9688 - val_loss: 0.0599 - val_precision: 0.9219 - val_recall: 1.0000\n",
      "Epoch 14/100\n",
      "\u001b[1m20/20\u001b[0m \u001b[32m━━━━━━━━━━━━━━━━━━━━\u001b[0m\u001b[37m\u001b[0m \u001b[1m0s\u001b[0m 10ms/step - accuracy: 0.9675 - loss: 0.0935 - precision: 0.9353 - recall: 0.9682 - val_accuracy: 0.9750 - val_loss: 0.0559 - val_precision: 0.9365 - val_recall: 1.0000\n",
      "Epoch 15/100\n",
      "\u001b[1m20/20\u001b[0m \u001b[32m━━━━━━━━━━━━━━━━━━━━\u001b[0m\u001b[37m\u001b[0m \u001b[1m0s\u001b[0m 10ms/step - accuracy: 0.9553 - loss: 0.0997 - precision: 0.9271 - recall: 0.9422 - val_accuracy: 0.9937 - val_loss: 0.0471 - val_precision: 0.9833 - val_recall: 1.0000\n",
      "Epoch 16/100\n",
      "\u001b[1m20/20\u001b[0m \u001b[32m━━━━━━━━━━━━━━━━━━━━\u001b[0m\u001b[37m\u001b[0m \u001b[1m0s\u001b[0m 10ms/step - accuracy: 0.9424 - loss: 0.1240 - precision: 0.9244 - recall: 0.9095 - val_accuracy: 1.0000 - val_loss: 0.0449 - val_precision: 1.0000 - val_recall: 1.0000\n",
      "Epoch 17/100\n",
      "\u001b[1m20/20\u001b[0m \u001b[32m━━━━━━━━━━━━━━━━━━━━\u001b[0m\u001b[37m\u001b[0m \u001b[1m0s\u001b[0m 10ms/step - accuracy: 0.9630 - loss: 0.0742 - precision: 0.9560 - recall: 0.9431 - val_accuracy: 0.9937 - val_loss: 0.0445 - val_precision: 0.9833 - val_recall: 1.0000\n",
      "Epoch 18/100\n",
      "\u001b[1m20/20\u001b[0m \u001b[32m━━━━━━━━━━━━━━━━━━━━\u001b[0m\u001b[37m\u001b[0m \u001b[1m0s\u001b[0m 10ms/step - accuracy: 0.9690 - loss: 0.0839 - precision: 0.9620 - recall: 0.9531 - val_accuracy: 1.0000 - val_loss: 0.0410 - val_precision: 1.0000 - val_recall: 1.0000\n",
      "Epoch 19/100\n",
      "\u001b[1m20/20\u001b[0m \u001b[32m━━━━━━━━━━━━━━━━━━━━\u001b[0m\u001b[37m\u001b[0m \u001b[1m0s\u001b[0m 10ms/step - accuracy: 0.9771 - loss: 0.0668 - precision: 0.9738 - recall: 0.9584 - val_accuracy: 1.0000 - val_loss: 0.0365 - val_precision: 1.0000 - val_recall: 1.0000\n",
      "Epoch 20/100\n",
      "\u001b[1m20/20\u001b[0m \u001b[32m━━━━━━━━━━━━━━━━━━━━\u001b[0m\u001b[37m\u001b[0m \u001b[1m0s\u001b[0m 10ms/step - accuracy: 0.9825 - loss: 0.0569 - precision: 0.9828 - recall: 0.9690 - val_accuracy: 1.0000 - val_loss: 0.0347 - val_precision: 1.0000 - val_recall: 1.0000\n",
      "Epoch 21/100\n",
      "\u001b[1m20/20\u001b[0m \u001b[32m━━━━━━━━━━━━━━━━━━━━\u001b[0m\u001b[37m\u001b[0m \u001b[1m0s\u001b[0m 10ms/step - accuracy: 0.9632 - loss: 0.0828 - precision: 0.9524 - recall: 0.9314 - val_accuracy: 0.9937 - val_loss: 0.0347 - val_precision: 0.9833 - val_recall: 1.0000\n",
      "Epoch 22/100\n",
      "\u001b[1m20/20\u001b[0m \u001b[32m━━━━━━━━━━━━━━━━━━━━\u001b[0m\u001b[37m\u001b[0m \u001b[1m0s\u001b[0m 11ms/step - accuracy: 0.9820 - loss: 0.0527 - precision: 0.9928 - recall: 0.9557 - val_accuracy: 0.9937 - val_loss: 0.0332 - val_precision: 0.9833 - val_recall: 1.0000\n",
      "Epoch 23/100\n",
      "\u001b[1m20/20\u001b[0m \u001b[32m━━━━━━━━━━━━━━━━━━━━\u001b[0m\u001b[37m\u001b[0m \u001b[1m0s\u001b[0m 10ms/step - accuracy: 0.9810 - loss: 0.0584 - precision: 0.9826 - recall: 0.9616 - val_accuracy: 0.9937 - val_loss: 0.0354 - val_precision: 0.9833 - val_recall: 1.0000\n",
      "Epoch 24/100\n",
      "\u001b[1m20/20\u001b[0m \u001b[32m━━━━━━━━━━━━━━━━━━━━\u001b[0m\u001b[37m\u001b[0m \u001b[1m0s\u001b[0m 10ms/step - accuracy: 0.9731 - loss: 0.0599 - precision: 0.9664 - recall: 0.9583 - val_accuracy: 1.0000 - val_loss: 0.0296 - val_precision: 1.0000 - val_recall: 1.0000\n",
      "Epoch 25/100\n",
      "\u001b[1m20/20\u001b[0m \u001b[32m━━━━━━━━━━━━━━━━━━━━\u001b[0m\u001b[37m\u001b[0m \u001b[1m0s\u001b[0m 10ms/step - accuracy: 0.9841 - loss: 0.0531 - precision: 0.9954 - recall: 0.9588 - val_accuracy: 0.9937 - val_loss: 0.0274 - val_precision: 0.9833 - val_recall: 1.0000\n",
      "Epoch 26/100\n",
      "\u001b[1m20/20\u001b[0m \u001b[32m━━━━━━━━━━━━━━━━━━━━\u001b[0m\u001b[37m\u001b[0m \u001b[1m0s\u001b[0m 10ms/step - accuracy: 0.9864 - loss: 0.0392 - precision: 0.9799 - recall: 0.9810 - val_accuracy: 0.9937 - val_loss: 0.0288 - val_precision: 0.9833 - val_recall: 1.0000\n",
      "Epoch 27/100\n",
      "\u001b[1m20/20\u001b[0m \u001b[32m━━━━━━━━━━━━━━━━━━━━\u001b[0m\u001b[37m\u001b[0m \u001b[1m0s\u001b[0m 10ms/step - accuracy: 0.9755 - loss: 0.0572 - precision: 0.9755 - recall: 0.9586 - val_accuracy: 0.9937 - val_loss: 0.0284 - val_precision: 0.9833 - val_recall: 1.0000\n",
      "Epoch 28/100\n",
      "\u001b[1m20/20\u001b[0m \u001b[32m━━━━━━━━━━━━━━━━━━━━\u001b[0m\u001b[37m\u001b[0m \u001b[1m0s\u001b[0m 9ms/step - accuracy: 0.9755 - loss: 0.0639 - precision: 0.9608 - recall: 0.9681 - val_accuracy: 0.9937 - val_loss: 0.0286 - val_precision: 0.9833 - val_recall: 1.0000\n",
      "Epoch 29/100\n",
      "\u001b[1m20/20\u001b[0m \u001b[32m━━━━━━━━━━━━━━━━━━━━\u001b[0m\u001b[37m\u001b[0m \u001b[1m0s\u001b[0m 10ms/step - accuracy: 0.9802 - loss: 0.0481 - precision: 0.9714 - recall: 0.9721 - val_accuracy: 0.9875 - val_loss: 0.0279 - val_precision: 0.9672 - val_recall: 1.0000\n",
      "Epoch 30/100\n",
      "\u001b[1m20/20\u001b[0m \u001b[32m━━━━━━━━━━━━━━━━━━━━\u001b[0m\u001b[37m\u001b[0m \u001b[1m0s\u001b[0m 10ms/step - accuracy: 0.9890 - loss: 0.0388 - precision: 0.9920 - recall: 0.9778 - val_accuracy: 1.0000 - val_loss: 0.0264 - val_precision: 1.0000 - val_recall: 1.0000\n",
      "Epoch 31/100\n",
      "\u001b[1m20/20\u001b[0m \u001b[32m━━━━━━━━━━━━━━━━━━━━\u001b[0m\u001b[37m\u001b[0m \u001b[1m0s\u001b[0m 11ms/step - accuracy: 0.9733 - loss: 0.0496 - precision: 0.9441 - recall: 0.9762 - val_accuracy: 1.0000 - val_loss: 0.0210 - val_precision: 1.0000 - val_recall: 1.0000\n",
      "Epoch 32/100\n",
      "\u001b[1m20/20\u001b[0m \u001b[32m━━━━━━━━━━━━━━━━━━━━\u001b[0m\u001b[37m\u001b[0m \u001b[1m0s\u001b[0m 10ms/step - accuracy: 0.9893 - loss: 0.0359 - precision: 0.9891 - recall: 0.9816 - val_accuracy: 0.9937 - val_loss: 0.0246 - val_precision: 0.9833 - val_recall: 1.0000\n",
      "Epoch 33/100\n",
      "\u001b[1m20/20\u001b[0m \u001b[32m━━━━━━━━━━━━━━━━━━━━\u001b[0m\u001b[37m\u001b[0m \u001b[1m0s\u001b[0m 10ms/step - accuracy: 0.9740 - loss: 0.0642 - precision: 0.9633 - recall: 0.9597 - val_accuracy: 1.0000 - val_loss: 0.0235 - val_precision: 1.0000 - val_recall: 1.0000\n",
      "Epoch 34/100\n",
      "\u001b[1m20/20\u001b[0m \u001b[32m━━━━━━━━━━━━━━━━━━━━\u001b[0m\u001b[37m\u001b[0m \u001b[1m0s\u001b[0m 10ms/step - accuracy: 0.9906 - loss: 0.0284 - precision: 0.9849 - recall: 0.9883 - val_accuracy: 1.0000 - val_loss: 0.0178 - val_precision: 1.0000 - val_recall: 1.0000\n",
      "Epoch 35/100\n",
      "\u001b[1m20/20\u001b[0m \u001b[32m━━━━━━━━━━━━━━━━━━━━\u001b[0m\u001b[37m\u001b[0m \u001b[1m0s\u001b[0m 9ms/step - accuracy: 0.9957 - loss: 0.0199 - precision: 0.9986 - recall: 0.9892 - val_accuracy: 1.0000 - val_loss: 0.0180 - val_precision: 1.0000 - val_recall: 1.0000\n",
      "Epoch 36/100\n",
      "\u001b[1m20/20\u001b[0m \u001b[32m━━━━━━━━━━━━━━━━━━━━\u001b[0m\u001b[37m\u001b[0m \u001b[1m0s\u001b[0m 10ms/step - accuracy: 0.9954 - loss: 0.0260 - precision: 0.9936 - recall: 0.9937 - val_accuracy: 1.0000 - val_loss: 0.0168 - val_precision: 1.0000 - val_recall: 1.0000\n",
      "Epoch 37/100\n",
      "\u001b[1m20/20\u001b[0m \u001b[32m━━━━━━━━━━━━━━━━━━━━\u001b[0m\u001b[37m\u001b[0m \u001b[1m0s\u001b[0m 12ms/step - accuracy: 0.9899 - loss: 0.0230 - precision: 0.9808 - recall: 0.9921 - val_accuracy: 1.0000 - val_loss: 0.0156 - val_precision: 1.0000 - val_recall: 1.0000\n",
      "Epoch 38/100\n",
      "\u001b[1m20/20\u001b[0m \u001b[32m━━━━━━━━━━━━━━━━━━━━\u001b[0m\u001b[37m\u001b[0m \u001b[1m0s\u001b[0m 12ms/step - accuracy: 0.9824 - loss: 0.0417 - precision: 0.9843 - recall: 0.9671 - val_accuracy: 1.0000 - val_loss: 0.0181 - val_precision: 1.0000 - val_recall: 1.0000\n",
      "Epoch 39/100\n",
      "\u001b[1m20/20\u001b[0m \u001b[32m━━━━━━━━━━━━━━━━━━━━\u001b[0m\u001b[37m\u001b[0m \u001b[1m0s\u001b[0m 10ms/step - accuracy: 0.9868 - loss: 0.0438 - precision: 0.9750 - recall: 0.9871 - val_accuracy: 1.0000 - val_loss: 0.0141 - val_precision: 1.0000 - val_recall: 1.0000\n",
      "Epoch 40/100\n",
      "\u001b[1m20/20\u001b[0m \u001b[32m━━━━━━━━━━━━━━━━━━━━\u001b[0m\u001b[37m\u001b[0m \u001b[1m0s\u001b[0m 10ms/step - accuracy: 0.9814 - loss: 0.0499 - precision: 0.9857 - recall: 0.9622 - val_accuracy: 1.0000 - val_loss: 0.0172 - val_precision: 1.0000 - val_recall: 1.0000\n",
      "Epoch 41/100\n",
      "\u001b[1m20/20\u001b[0m \u001b[32m━━━━━━━━━━━━━━━━━━━━\u001b[0m\u001b[37m\u001b[0m \u001b[1m0s\u001b[0m 10ms/step - accuracy: 0.9923 - loss: 0.0277 - precision: 0.9897 - recall: 0.9887 - val_accuracy: 0.9937 - val_loss: 0.0172 - val_precision: 1.0000 - val_recall: 0.9831\n",
      "Epoch 42/100\n",
      "\u001b[1m20/20\u001b[0m \u001b[32m━━━━━━━━━━━━━━━━━━━━\u001b[0m\u001b[37m\u001b[0m \u001b[1m0s\u001b[0m 9ms/step - accuracy: 0.9949 - loss: 0.0205 - precision: 0.9974 - recall: 0.9881 - val_accuracy: 0.9937 - val_loss: 0.0187 - val_precision: 0.9833 - val_recall: 1.0000\n",
      "Epoch 43/100\n",
      "\u001b[1m20/20\u001b[0m \u001b[32m━━━━━━━━━━━━━━━━━━━━\u001b[0m\u001b[37m\u001b[0m \u001b[1m0s\u001b[0m 15ms/step - accuracy: 0.9917 - loss: 0.0260 - precision: 0.9926 - recall: 0.9830 - val_accuracy: 0.9875 - val_loss: 0.0269 - val_precision: 0.9672 - val_recall: 1.0000\n",
      "Epoch 44/100\n",
      "\u001b[1m20/20\u001b[0m \u001b[32m━━━━━━━━━━━━━━━━━━━━\u001b[0m\u001b[37m\u001b[0m \u001b[1m0s\u001b[0m 10ms/step - accuracy: 0.9900 - loss: 0.0257 - precision: 0.9746 - recall: 0.9945 - val_accuracy: 0.9937 - val_loss: 0.0147 - val_precision: 0.9833 - val_recall: 1.0000\n",
      "Epoch 45/100\n",
      "\u001b[1m20/20\u001b[0m \u001b[32m━━━━━━━━━━━━━━━━━━━━\u001b[0m\u001b[37m\u001b[0m \u001b[1m0s\u001b[0m 16ms/step - accuracy: 0.9917 - loss: 0.0208 - precision: 0.9975 - recall: 0.9792 - val_accuracy: 0.9937 - val_loss: 0.0176 - val_precision: 0.9833 - val_recall: 1.0000\n",
      "Epoch 46/100\n",
      "\u001b[1m20/20\u001b[0m \u001b[32m━━━━━━━━━━━━━━━━━━━━\u001b[0m\u001b[37m\u001b[0m \u001b[1m0s\u001b[0m 14ms/step - accuracy: 0.9898 - loss: 0.0300 - precision: 0.9762 - recall: 0.9938 - val_accuracy: 1.0000 - val_loss: 0.0118 - val_precision: 1.0000 - val_recall: 1.0000\n",
      "Epoch 47/100\n",
      "\u001b[1m20/20\u001b[0m \u001b[32m━━━━━━━━━━━━━━━━━━━━\u001b[0m\u001b[37m\u001b[0m \u001b[1m0s\u001b[0m 17ms/step - accuracy: 0.9902 - loss: 0.0216 - precision: 0.9904 - recall: 0.9823 - val_accuracy: 1.0000 - val_loss: 0.0123 - val_precision: 1.0000 - val_recall: 1.0000\n",
      "Epoch 48/100\n",
      "\u001b[1m20/20\u001b[0m \u001b[32m━━━━━━━━━━━━━━━━━━━━\u001b[0m\u001b[37m\u001b[0m \u001b[1m0s\u001b[0m 10ms/step - accuracy: 0.9851 - loss: 0.0284 - precision: 0.9758 - recall: 0.9825 - val_accuracy: 1.0000 - val_loss: 0.0124 - val_precision: 1.0000 - val_recall: 1.0000\n",
      "Epoch 49/100\n",
      "\u001b[1m20/20\u001b[0m \u001b[32m━━━━━━━━━━━━━━━━━━━━\u001b[0m\u001b[37m\u001b[0m \u001b[1m0s\u001b[0m 10ms/step - accuracy: 0.9911 - loss: 0.0255 - precision: 0.9923 - recall: 0.9825 - val_accuracy: 1.0000 - val_loss: 0.0150 - val_precision: 1.0000 - val_recall: 1.0000\n",
      "Epoch 50/100\n",
      "\u001b[1m20/20\u001b[0m \u001b[32m━━━━━━━━━━━━━━━━━━━━\u001b[0m\u001b[37m\u001b[0m \u001b[1m0s\u001b[0m 10ms/step - accuracy: 0.9900 - loss: 0.0240 - precision: 0.9814 - recall: 0.9889 - val_accuracy: 1.0000 - val_loss: 0.0123 - val_precision: 1.0000 - val_recall: 1.0000\n",
      "Epoch 51/100\n",
      "\u001b[1m20/20\u001b[0m \u001b[32m━━━━━━━━━━━━━━━━━━━━\u001b[0m\u001b[37m\u001b[0m \u001b[1m0s\u001b[0m 10ms/step - accuracy: 0.9948 - loss: 0.0169 - precision: 0.9920 - recall: 0.9932 - val_accuracy: 1.0000 - val_loss: 0.0115 - val_precision: 1.0000 - val_recall: 1.0000\n",
      "Epoch 52/100\n",
      "\u001b[1m20/20\u001b[0m \u001b[32m━━━━━━━━━━━━━━━━━━━━\u001b[0m\u001b[37m\u001b[0m \u001b[1m0s\u001b[0m 10ms/step - accuracy: 0.9940 - loss: 0.0180 - precision: 1.0000 - recall: 0.9847 - val_accuracy: 1.0000 - val_loss: 0.0148 - val_precision: 1.0000 - val_recall: 1.0000\n",
      "Epoch 53/100\n",
      "\u001b[1m20/20\u001b[0m \u001b[32m━━━━━━━━━━━━━━━━━━━━\u001b[0m\u001b[37m\u001b[0m \u001b[1m0s\u001b[0m 10ms/step - accuracy: 0.9954 - loss: 0.0153 - precision: 0.9883 - recall: 0.9986 - val_accuracy: 1.0000 - val_loss: 0.0120 - val_precision: 1.0000 - val_recall: 1.0000\n",
      "Epoch 54/100\n",
      "\u001b[1m20/20\u001b[0m \u001b[32m━━━━━━━━━━━━━━━━━━━━\u001b[0m\u001b[37m\u001b[0m \u001b[1m0s\u001b[0m 19ms/step - accuracy: 0.9924 - loss: 0.0153 - precision: 0.9986 - recall: 0.9807 - val_accuracy: 1.0000 - val_loss: 0.0125 - val_precision: 1.0000 - val_recall: 1.0000\n",
      "Epoch 55/100\n",
      "\u001b[1m20/20\u001b[0m \u001b[32m━━━━━━━━━━━━━━━━━━━━\u001b[0m\u001b[37m\u001b[0m \u001b[1m0s\u001b[0m 19ms/step - accuracy: 0.9967 - loss: 0.0130 - precision: 0.9961 - recall: 0.9948 - val_accuracy: 1.0000 - val_loss: 0.0137 - val_precision: 1.0000 - val_recall: 1.0000\n",
      "Epoch 56/100\n",
      "\u001b[1m20/20\u001b[0m \u001b[32m━━━━━━━━━━━━━━━━━━━━\u001b[0m\u001b[37m\u001b[0m \u001b[1m1s\u001b[0m 15ms/step - accuracy: 0.9888 - loss: 0.0186 - precision: 0.9943 - recall: 0.9746 - val_accuracy: 1.0000 - val_loss: 0.0137 - val_precision: 1.0000 - val_recall: 1.0000\n",
      "Epoch 57/100\n",
      "\u001b[1m20/20\u001b[0m \u001b[32m━━━━━━━━━━━━━━━━━━━━\u001b[0m\u001b[37m\u001b[0m \u001b[1m0s\u001b[0m 14ms/step - accuracy: 0.9938 - loss: 0.0222 - precision: 0.9845 - recall: 0.9979 - val_accuracy: 1.0000 - val_loss: 0.0115 - val_precision: 1.0000 - val_recall: 1.0000\n",
      "Epoch 58/100\n",
      "\u001b[1m20/20\u001b[0m \u001b[32m━━━━━━━━━━━━━━━━━━━━\u001b[0m\u001b[37m\u001b[0m \u001b[1m0s\u001b[0m 17ms/step - accuracy: 0.9924 - loss: 0.0184 - precision: 0.9909 - recall: 0.9873 - val_accuracy: 1.0000 - val_loss: 0.0141 - val_precision: 1.0000 - val_recall: 1.0000\n",
      "Epoch 59/100\n",
      "\u001b[1m20/20\u001b[0m \u001b[32m━━━━━━━━━━━━━━━━━━━━\u001b[0m\u001b[37m\u001b[0m \u001b[1m0s\u001b[0m 14ms/step - accuracy: 0.9872 - loss: 0.0274 - precision: 0.9894 - recall: 0.9757 - val_accuracy: 1.0000 - val_loss: 0.0133 - val_precision: 1.0000 - val_recall: 1.0000\n",
      "Epoch 60/100\n",
      "\u001b[1m20/20\u001b[0m \u001b[32m━━━━━━━━━━━━━━━━━━━━\u001b[0m\u001b[37m\u001b[0m \u001b[1m0s\u001b[0m 14ms/step - accuracy: 0.9962 - loss: 0.0171 - precision: 0.9896 - recall: 0.9989 - val_accuracy: 0.9937 - val_loss: 0.0137 - val_precision: 0.9833 - val_recall: 1.0000\n",
      "Epoch 61/100\n",
      "\u001b[1m20/20\u001b[0m \u001b[32m━━━━━━━━━━━━━━━━━━━━\u001b[0m\u001b[37m\u001b[0m \u001b[1m0s\u001b[0m 15ms/step - accuracy: 0.9932 - loss: 0.0174 - precision: 0.9974 - recall: 0.9834 - val_accuracy: 1.0000 - val_loss: 0.0124 - val_precision: 1.0000 - val_recall: 1.0000\n",
      "Epoch 61: early stopping\n",
      "Restoring model weights from the end of the best epoch: 51.\n"
     ]
    }
   ],
   "source": [
    "# Configurar early stopping\n",
    "early_stop = EarlyStopping(\n",
    "    monitor = 'val_loss',\n",
    "    patience = 10,\n",
    "    restore_best_weights = True,\n",
    "    verbose = 1\n",
    ")\n",
    "\n",
    "# Entrenar modelo\n",
    "history = model.fit(\n",
    "    X_train, y_train,\n",
    "    epochs = 100,\n",
    "    batch_size = 32,\n",
    "    validation_split = 0.2,\n",
    "    callbacks = [early_stop],\n",
    "    verbose = 1\n",
    ")"
   ]
  },
  {
   "cell_type": "markdown",
   "id": "934bbcec",
   "metadata": {},
   "source": [
    "#### 6. Evaluación y Visualización."
   ]
  },
  {
   "cell_type": "code",
   "execution_count": 6,
   "id": "835a4837",
   "metadata": {},
   "outputs": [
    {
     "name": "stdout",
     "output_type": "stream",
     "text": [
      "\n",
      "Resultados en Test:\n",
      "Accuracy: 0.9950\n",
      "Precision: 0.9861\n",
      "Recall: 1.0000\n"
     ]
    }
   ],
   "source": [
    "# Evaluar en test\n",
    "test_loss, test_acc, test_precision, test_recall = model.evaluate(X_test, y_test, verbose = 0)\n",
    "print(f'\\nResultados en Test:')\n",
    "print(f\"Accuracy: {test_acc:.4f}\")\n",
    "print(f\"Precision: {test_precision:.4f}\")\n",
    "print(f\"Recall: {test_recall:.4f}\")"
   ]
  },
  {
   "cell_type": "code",
   "execution_count": 9,
   "id": "fa84eba5",
   "metadata": {},
   "outputs": [
    {
     "data": {
      "text/plain": [
       "<function matplotlib.pyplot.show(close=None, block=None)>"
      ]
     },
     "execution_count": 9,
     "metadata": {},
     "output_type": "execute_result"
    },
    {
     "data": {
      "image/png": "[encoded data removed]",
      "text/plain": [
       "<Figure size 1200x400 with 2 Axes>"
      ]
     },
     "metadata": {},
     "output_type": "display_data"
    }
   ],
   "source": [
    "# Gráficas de entrenamiento\n",
    "plt.figure(figsize = (12, 4))\n",
    "\n",
    "plt.subplot(1, 2, 1)\n",
    "plt.plot(history.history['accuracy'], label = 'Train Accuracy')\n",
    "plt.plot(history.history['val_accuracy'], label = 'Validation Accuracy')\n",
    "plt.title('Accuracy durante Entrenamiento')\n",
    "plt.legend()\n",
    "\n",
    "plt.subplot(1, 2, 2)\n",
    "plt.plot(history.history['loss'], label = 'Train loss')\n",
    "plt.plot(history.history['val_loss'], label = 'Validation loss')\n",
    "plt.title('Loss durante Entrenamiento')\n",
    "plt.legend()\n",
    "\n",
    "plt.tight_layout()\n",
    "plt.show"
   ]
  },
  {
   "cell_type": "code",
   "execution_count": 10,
   "id": "e0936444",
   "metadata": {},
   "outputs": [
    {
     "name": "stdout",
     "output_type": "stream",
     "text": [
      "\u001b[1m7/7\u001b[0m \u001b[32m━━━━━━━━━━━━━━━━━━━━\u001b[0m\u001b[37m\u001b[0m \u001b[1m0s\u001b[0m 12ms/step\n"
     ]
    },
    {
     "data": {
      "image/png": "[encoded data removed]",
      "text/plain": [
       "<Figure size 640x480 with 2 Axes>"
      ]
     },
     "metadata": {},
     "output_type": "display_data"
    }
   ],
   "source": [
    "# Matriz de confusión\n",
    "y_pred = (model.predict(X_test) > 0.5).astype(int)\n",
    "cm = confusion_matrix(y_test, y_pred)\n",
    "sns.heatmap(cm, annot = True, fmt = 'd', cmap = 'Blues')\n",
    "plt.title('Matriz de Confusión')\n",
    "\n",
    "plt.show()"
   ]
  },
  {
   "cell_type": "markdown",
   "id": "d15c13ad",
   "metadata": {},
   "source": [
    "#### 7. Interpretación y Predicciones."
   ]
  },
  {
   "cell_type": "code",
   "execution_count": 11,
   "id": "d041c7b3",
   "metadata": {},
   "outputs": [
    {
     "name": "stdout",
     "output_type": "stream",
     "text": [
      "\u001b[1m1/1\u001b[0m \u001b[32m━━━━━━━━━━━━━━━━━━━━\u001b[0m\u001b[37m\u001b[0m \u001b[1m0s\u001b[0m 252ms/step\n",
      "\u001b[1m1/1\u001b[0m \u001b[32m━━━━━━━━━━━━━━━━━━━━\u001b[0m\u001b[37m\u001b[0m \u001b[1m0s\u001b[0m 57ms/step\n",
      "\n",
      "Predicciones para nuevos clientes:\n",
      "Cliente 1: Probabilidad de churn = 0.00%\n",
      "Cliente 2: Probabilidad de churn = 0.28%\n"
     ]
    }
   ],
   "source": [
    "# Hacer predicciones para nuevos clientes\n",
    "nuevos_clientes = np.array([[45, 24, 100, 2], [65, 3, 50, 8]]) # [edad, meses, gasto, llamadas]\n",
    "nuevos_clientes_scaled = scaler.fit_transform(nuevos_clientes)\n",
    "\n",
    "predicciones = model.predict(nuevos_clientes_scaled)\n",
    "probabilidades = model.predict(nuevos_clientes_scaled)\n",
    "\n",
    "print(\"\\nPredicciones para nuevos clientes:\")\n",
    "for i, (cliente, prob) in enumerate(zip(nuevos_clientes, probabilidades)):\n",
    "    print(f\"Cliente {i+1}: Probabilidad de churn = {prob[0]:.2%}\")"
   ]
  }
 ],
 "metadata": {
  "kernelspec": {
   "display_name": "Python 3",
   "language": "python",
   "name": "python3"
  },
  "language_info": {
   "codemirror_mode": {
    "name": "ipython",
    "version": 3
   },
   "file_extension": ".py",
   "mimetype": "text/x-python",
   "name": "python",
   "nbconvert_exporter": "python",
   "pygments_lexer": "ipython3",
   "version": "3.10.10"
  }
 },
 "nbformat": 4,
 "nbformat_minor": 5
}
