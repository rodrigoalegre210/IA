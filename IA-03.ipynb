{
 "cells": [
  {
   "cell_type": "markdown",
   "id": "5be24ca3",
   "metadata": {},
   "source": [
    "### Validación Cruzada (Cross-Validation)\n",
    "\n",
    "Situación: Eres un científico de datos en una startup de salud. Tienes 200 pacientes con datos genéticos para predecir diabetes, pero el dataset es pequeño. Quieres asegurarte de que tu modelo no dependa de cómo dividiste los datos.\n",
    "\n",
    "¿Por qué usar Cross-Validation?\n",
    "\n",
    "* Con pocos datos, la división train/test puede ser inestable (el accuracy varía mucho según los datos elegidos).\n",
    "* La validación cruzada usa múltiples divisiones y promedia los resultados."
   ]
  },
  {
   "cell_type": "code",
   "execution_count": 3,
   "id": "a7dc3c4a",
   "metadata": {},
   "outputs": [
    {
     "name": "stdout",
     "output_type": "stream",
     "text": [
      "Accuracy por fold: [0.85  0.875 0.775 0.8   0.9  ]\n",
      "Accuracy promedio: 0.8400000000000001\n"
     ]
    }
   ],
   "source": [
    "import numpy as np\n",
    "\n",
    "from sklearn.datasets import make_classification\n",
    "from sklearn.linear_model import LogisticRegression\n",
    "from sklearn.model_selection import cross_val_score\n",
    "\n",
    "# Datos sintéticos (simulando datos genéticos).\n",
    "X, y = make_classification(n_samples = 200, n_features = 10, random_state = 42)\n",
    "\n",
    "# Modelo (regresión logística).\n",
    "modelo = LogisticRegression(max_iter = 1000)\n",
    "\n",
    "# Cross-Validation de 5 folds (divide los datos en 5 partes).\n",
    "scores = cross_val_score(modelo, X, y, cv = 5, scoring = 'accuracy')\n",
    "\n",
    "print('Accuracy por fold:', scores)\n",
    "print('Accuracy promedio:', np.mean(scores))"
   ]
  },
  {
   "cell_type": "markdown",
   "id": "74a91aa3",
   "metadata": {},
   "source": [
    "Usa el dataset de cáncer de mama (load_breast_cancer) para:\n",
    "\n",
    "1. Aplicar 10-fold cross-validation.\n",
    "2. Usar como métrica el F1-Score (en lugar de accuracy).\n",
    "3. Imprimir el F1-Socre promedio.\n",
    "\n",
    "Pista: Cambia scoring = 'f1' en cross_val_score."
   ]
  },
  {
   "cell_type": "code",
   "execution_count": 5,
   "id": "0d15e329",
   "metadata": {},
   "outputs": [
    {
     "name": "stderr",
     "output_type": "stream",
     "text": [
      "c:\\Users\\PrancherC\\AppData\\Local\\Programs\\Python\\Python310\\lib\\site-packages\\sklearn\\linear_model\\_logistic.py:473: ConvergenceWarning: lbfgs failed to converge after 100 iteration(s) (status=1):\n",
      "STOP: TOTAL NO. OF ITERATIONS REACHED LIMIT\n",
      "\n",
      "Increase the number of iterations to improve the convergence (max_iter=100).\n",
      "You might also want to scale the data as shown in:\n",
      "    https://scikit-learn.org/stable/modules/preprocessing.html\n",
      "Please also refer to the documentation for alternative solver options:\n",
      "    https://scikit-learn.org/stable/modules/linear_model.html#logistic-regression\n",
      "  n_iter_i = _check_optimize_result(\n",
      "c:\\Users\\PrancherC\\AppData\\Local\\Programs\\Python\\Python310\\lib\\site-packages\\sklearn\\linear_model\\_logistic.py:473: ConvergenceWarning: lbfgs failed to converge after 100 iteration(s) (status=1):\n",
      "STOP: TOTAL NO. OF ITERATIONS REACHED LIMIT\n",
      "\n",
      "Increase the number of iterations to improve the convergence (max_iter=100).\n",
      "You might also want to scale the data as shown in:\n",
      "    https://scikit-learn.org/stable/modules/preprocessing.html\n",
      "Please also refer to the documentation for alternative solver options:\n",
      "    https://scikit-learn.org/stable/modules/linear_model.html#logistic-regression\n",
      "  n_iter_i = _check_optimize_result(\n",
      "c:\\Users\\PrancherC\\AppData\\Local\\Programs\\Python\\Python310\\lib\\site-packages\\sklearn\\linear_model\\_logistic.py:473: ConvergenceWarning: lbfgs failed to converge after 100 iteration(s) (status=1):\n",
      "STOP: TOTAL NO. OF ITERATIONS REACHED LIMIT\n",
      "\n",
      "Increase the number of iterations to improve the convergence (max_iter=100).\n",
      "You might also want to scale the data as shown in:\n",
      "    https://scikit-learn.org/stable/modules/preprocessing.html\n",
      "Please also refer to the documentation for alternative solver options:\n",
      "    https://scikit-learn.org/stable/modules/linear_model.html#logistic-regression\n",
      "  n_iter_i = _check_optimize_result(\n",
      "c:\\Users\\PrancherC\\AppData\\Local\\Programs\\Python\\Python310\\lib\\site-packages\\sklearn\\linear_model\\_logistic.py:473: ConvergenceWarning: lbfgs failed to converge after 100 iteration(s) (status=1):\n",
      "STOP: TOTAL NO. OF ITERATIONS REACHED LIMIT\n",
      "\n",
      "Increase the number of iterations to improve the convergence (max_iter=100).\n",
      "You might also want to scale the data as shown in:\n",
      "    https://scikit-learn.org/stable/modules/preprocessing.html\n",
      "Please also refer to the documentation for alternative solver options:\n",
      "    https://scikit-learn.org/stable/modules/linear_model.html#logistic-regression\n",
      "  n_iter_i = _check_optimize_result(\n",
      "c:\\Users\\PrancherC\\AppData\\Local\\Programs\\Python\\Python310\\lib\\site-packages\\sklearn\\linear_model\\_logistic.py:473: ConvergenceWarning: lbfgs failed to converge after 100 iteration(s) (status=1):\n",
      "STOP: TOTAL NO. OF ITERATIONS REACHED LIMIT\n",
      "\n",
      "Increase the number of iterations to improve the convergence (max_iter=100).\n",
      "You might also want to scale the data as shown in:\n",
      "    https://scikit-learn.org/stable/modules/preprocessing.html\n",
      "Please also refer to the documentation for alternative solver options:\n",
      "    https://scikit-learn.org/stable/modules/linear_model.html#logistic-regression\n",
      "  n_iter_i = _check_optimize_result(\n",
      "c:\\Users\\PrancherC\\AppData\\Local\\Programs\\Python\\Python310\\lib\\site-packages\\sklearn\\linear_model\\_logistic.py:473: ConvergenceWarning: lbfgs failed to converge after 100 iteration(s) (status=1):\n",
      "STOP: TOTAL NO. OF ITERATIONS REACHED LIMIT\n",
      "\n",
      "Increase the number of iterations to improve the convergence (max_iter=100).\n",
      "You might also want to scale the data as shown in:\n",
      "    https://scikit-learn.org/stable/modules/preprocessing.html\n",
      "Please also refer to the documentation for alternative solver options:\n",
      "    https://scikit-learn.org/stable/modules/linear_model.html#logistic-regression\n",
      "  n_iter_i = _check_optimize_result(\n",
      "c:\\Users\\PrancherC\\AppData\\Local\\Programs\\Python\\Python310\\lib\\site-packages\\sklearn\\linear_model\\_logistic.py:473: ConvergenceWarning: lbfgs failed to converge after 100 iteration(s) (status=1):\n",
      "STOP: TOTAL NO. OF ITERATIONS REACHED LIMIT\n",
      "\n",
      "Increase the number of iterations to improve the convergence (max_iter=100).\n",
      "You might also want to scale the data as shown in:\n",
      "    https://scikit-learn.org/stable/modules/preprocessing.html\n",
      "Please also refer to the documentation for alternative solver options:\n",
      "    https://scikit-learn.org/stable/modules/linear_model.html#logistic-regression\n",
      "  n_iter_i = _check_optimize_result(\n",
      "c:\\Users\\PrancherC\\AppData\\Local\\Programs\\Python\\Python310\\lib\\site-packages\\sklearn\\linear_model\\_logistic.py:473: ConvergenceWarning: lbfgs failed to converge after 100 iteration(s) (status=1):\n",
      "STOP: TOTAL NO. OF ITERATIONS REACHED LIMIT\n",
      "\n",
      "Increase the number of iterations to improve the convergence (max_iter=100).\n",
      "You might also want to scale the data as shown in:\n",
      "    https://scikit-learn.org/stable/modules/preprocessing.html\n",
      "Please also refer to the documentation for alternative solver options:\n",
      "    https://scikit-learn.org/stable/modules/linear_model.html#logistic-regression\n",
      "  n_iter_i = _check_optimize_result(\n",
      "c:\\Users\\PrancherC\\AppData\\Local\\Programs\\Python\\Python310\\lib\\site-packages\\sklearn\\linear_model\\_logistic.py:473: ConvergenceWarning: lbfgs failed to converge after 100 iteration(s) (status=1):\n",
      "STOP: TOTAL NO. OF ITERATIONS REACHED LIMIT\n",
      "\n",
      "Increase the number of iterations to improve the convergence (max_iter=100).\n",
      "You might also want to scale the data as shown in:\n",
      "    https://scikit-learn.org/stable/modules/preprocessing.html\n",
      "Please also refer to the documentation for alternative solver options:\n",
      "    https://scikit-learn.org/stable/modules/linear_model.html#logistic-regression\n",
      "  n_iter_i = _check_optimize_result(\n"
     ]
    },
    {
     "name": "stdout",
     "output_type": "stream",
     "text": [
      "F1-Score prmedio: 0.9571395955642531\n"
     ]
    },
    {
     "name": "stderr",
     "output_type": "stream",
     "text": [
      "c:\\Users\\PrancherC\\AppData\\Local\\Programs\\Python\\Python310\\lib\\site-packages\\sklearn\\linear_model\\_logistic.py:473: ConvergenceWarning: lbfgs failed to converge after 100 iteration(s) (status=1):\n",
      "STOP: TOTAL NO. OF ITERATIONS REACHED LIMIT\n",
      "\n",
      "Increase the number of iterations to improve the convergence (max_iter=100).\n",
      "You might also want to scale the data as shown in:\n",
      "    https://scikit-learn.org/stable/modules/preprocessing.html\n",
      "Please also refer to the documentation for alternative solver options:\n",
      "    https://scikit-learn.org/stable/modules/linear_model.html#logistic-regression\n",
      "  n_iter_i = _check_optimize_result(\n"
     ]
    }
   ],
   "source": [
    "import numpy as np\n",
    "\n",
    "from sklearn.datasets import load_breast_cancer\n",
    "from sklearn.linear_model import LogisticRegression\n",
    "from sklearn.model_selection import cross_val_score\n",
    "\n",
    "datos = load_breast_cancer()\n",
    "X, y = datos.data, datos.target\n",
    "\n",
    "scores = cross_val_score(LogisticRegression(), X, y, cv = 10, scoring = 'f1')\n",
    "print(\"F1-Score prmedio:\", np.mean(scores))"
   ]
  },
  {
   "cell_type": "markdown",
   "id": "b1935473",
   "metadata": {},
   "source": [
    "---"
   ]
  },
  {
   "cell_type": "markdown",
   "id": "c15f52d1",
   "metadata": {},
   "source": [
    "### Métricas de Clasificación (Precisión, Recall, F1)\n",
    "\n",
    "Situación: Trabajas en un sistema de detección de spam. Tu modelo predice:\n",
    "\n",
    "* Clase 0: Correo normal.\n",
    "* Clase 1: Spam.\n",
    "\n",
    "Problema: El ciente te dice: \"El modelo está dejando pasar mucho spam (falsos negativos)\".\n",
    "\n",
    "¿Qué métrica usar?\n",
    "\n",
    "* Recall (Sensibilidad): De todos los reales spam, ¿Cuántos detectó?\n",
    "    * Recall alto -> Menos falsos negativos."
   ]
  },
  {
   "cell_type": "code",
   "execution_count": 8,
   "id": "eb556f51",
   "metadata": {},
   "outputs": [
    {
     "name": "stdout",
     "output_type": "stream",
     "text": [
      "              precision    recall  f1-score   support\n",
      "\n",
      "      Normal       0.67      1.00      0.80         2\n",
      "        Spam       1.00      0.67      0.80         3\n",
      "\n",
      "    accuracy                           0.80         5\n",
      "   macro avg       0.83      0.83      0.80         5\n",
      "weighted avg       0.87      0.80      0.80         5\n",
      "\n"
     ]
    }
   ],
   "source": [
    "import numpy as np\n",
    "\n",
    "from sklearn.metrics import classification_report\n",
    "\n",
    "# Datos reales y predicciones (ejemplo simplificado)\n",
    "y_real = np.array([0, 1, 1, 0, 1]) # 1 = Spam\n",
    "y_pred = np.array([0, 0, 1, 0, 1]) # Predicciones\n",
    "\n",
    "# Reporte completo\n",
    "print(classification_report(y_real, y_pred, target_names = ['Normal', 'Spam']))"
   ]
  },
  {
   "cell_type": "markdown",
   "id": "e8bc009d",
   "metadata": {},
   "source": [
    "* Precisión de Spam = 1.00: Esto significa que todas las veces que el modelo predijo Spam, acertó.\n",
    "    * No hubo falsos positivos (no se clasificó nada como Spam cuando era Normal)\n",
    "\n",
    "* Recall de Spam = 0.67: Esto significa que el modelo solo detectó 2 de cada 3 casos reales de Spam.\n",
    "    * Hubo falsos negativos (algunos Spam reales fueron clasificados como Normal)"
   ]
  },
  {
   "cell_type": "markdown",
   "id": "e9eebf16",
   "metadata": {},
   "source": [
    "En el dataset de cáncer de mama:\n",
    "\n",
    "1. Genera predicciones con model.predict(X_test)\n",
    "2. Usa classification_report para ver:\n",
    "    * Recall de la clase *malignant* (0).\n",
    "    * Precisión de la clase *benign* (1)."
   ]
  },
  {
   "cell_type": "code",
   "execution_count": 9,
   "id": "6262a659",
   "metadata": {},
   "outputs": [
    {
     "name": "stdout",
     "output_type": "stream",
     "text": [
      "              precision    recall  f1-score   support\n",
      "\n",
      "   malignant       0.97      0.88      0.92        64\n",
      "      benign       0.93      0.98      0.95       107\n",
      "\n",
      "    accuracy                           0.94       171\n",
      "   macro avg       0.95      0.93      0.94       171\n",
      "weighted avg       0.94      0.94      0.94       171\n",
      "\n"
     ]
    },
    {
     "name": "stderr",
     "output_type": "stream",
     "text": [
      "c:\\Users\\PrancherC\\AppData\\Local\\Programs\\Python\\Python310\\lib\\site-packages\\sklearn\\linear_model\\_logistic.py:473: ConvergenceWarning: lbfgs failed to converge after 1000 iteration(s) (status=1):\n",
      "STOP: TOTAL NO. OF ITERATIONS REACHED LIMIT\n",
      "\n",
      "Increase the number of iterations to improve the convergence (max_iter=1000).\n",
      "You might also want to scale the data as shown in:\n",
      "    https://scikit-learn.org/stable/modules/preprocessing.html\n",
      "Please also refer to the documentation for alternative solver options:\n",
      "    https://scikit-learn.org/stable/modules/linear_model.html#logistic-regression\n",
      "  n_iter_i = _check_optimize_result(\n"
     ]
    }
   ],
   "source": [
    "import numpy as np\n",
    "\n",
    "from sklearn.linear_model import LogisticRegression\n",
    "from sklearn.datasets import load_breast_cancer\n",
    "from sklearn.metrics import classification_report\n",
    "from sklearn.model_selection import train_test_split\n",
    "\n",
    "datos = load_breast_cancer()\n",
    "X, y = datos.data, datos.target\n",
    "\n",
    "X_train, X_test, y_train, y_test = train_test_split(X, y, test_size = 0.3, stratify = y, random_state = 42)\n",
    "\n",
    "modelo = LogisticRegression(penalty = 'l2', max_iter = 1000)\n",
    "\n",
    "modelo.fit(X_train, y_train)\n",
    "\n",
    "y_pred = modelo.predict(X_test)\n",
    "\n",
    "print(classification_report(y_test, y_pred, target_names = datos.target_names))"
   ]
  },
  {
   "cell_type": "markdown",
   "id": "b4d3aabe",
   "metadata": {},
   "source": [
    "---"
   ]
  },
  {
   "cell_type": "markdown",
   "id": "f0cc0215",
   "metadata": {},
   "source": [
    "### K-Means + Determinación de números de clusters.\n",
    "\n",
    "Situación: En una empresa de e-commerce, tienes datos de 500 clientes:\n",
    "\n",
    "* ingresos_anuales (miles USD).\n",
    "* puntuacion_compra (1-100).\n",
    "\n",
    "Quieres segmentarlos en grupos para campañas de marketing.\n",
    "\n",
    "¿Cómo elegir el número de clusters (k)?\n",
    "\n",
    "* Método de Codo: Graficar la inercia (suma de distancias al centroide) para diferentes valores de **k**."
   ]
  },
  {
   "cell_type": "code",
   "execution_count": 10,
   "id": "51c6d103",
   "metadata": {},
   "outputs": [
    {
     "data": {
      "image/png": "[encoded data removed]",
      "text/plain": [
       "<Figure size 640x480 with 1 Axes>"
      ]
     },
     "metadata": {},
     "output_type": "display_data"
    }
   ],
   "source": [
    "import numpy as np\n",
    "import matplotlib.pyplot as plt\n",
    "\n",
    "from sklearn.cluster import KMeans\n",
    "\n",
    "# Datos sintéticos.\n",
    "np.random.seed(42)\n",
    "X = np.vstack([\n",
    "    np.random.normal(loc = [20, 30], scale = 5, size = (100, 2)),\n",
    "    np.random.normal(loc = [50, 60], scale = 10, size = (100, 2))\n",
    "])\n",
    "\n",
    "# Calcular inercia para k=1 a 10\n",
    "inercia = []\n",
    "for k in range(1, 11):\n",
    "    kmeans = KMeans(n_clusters = k, random_state = 42)\n",
    "    kmeans.fit(X)\n",
    "    inercia.append(kmeans.inertia_)\n",
    "\n",
    "# Graficar\n",
    "plt.plot(range(1, 11), inercia, marker = 'o')\n",
    "plt.xlabel('Número de Clusters (k)')\n",
    "plt.ylabel('Inercia')\n",
    "plt.title('Método de codo')\n",
    "\n",
    "plt.show()"
   ]
  },
  {
   "cell_type": "markdown",
   "id": "522346ab",
   "metadata": {},
   "source": [
    "El codo está en **k=2** (óptimo para estos datos)."
   ]
  },
  {
   "cell_type": "markdown",
   "id": "6ae99d07",
   "metadata": {},
   "source": [
    "Usa los datos de clientes del e-commerce:"
   ]
  },
  {
   "cell_type": "code",
   "execution_count": null,
   "id": "9b33fffe",
   "metadata": {},
   "outputs": [],
   "source": [
    "ingresos = np.random.randint(15, 100, 500)\n",
    "puntuacion = np.random.randint(1, 100, 500)\n",
    "X = np.column_stack([ingresos, puntuacion])"
   ]
  },
  {
   "cell_type": "markdown",
   "id": "3545e54f",
   "metadata": {},
   "source": [
    "1. Aplica el método del codo para determinar el **k** óptimo.\n",
    "2. ¿Qué **k** eligirías? ¿Por qué?"
   ]
  },
  {
   "cell_type": "code",
   "execution_count": 12,
   "id": "3383460f",
   "metadata": {},
   "outputs": [
    {
     "data": {
      "image/png": "[encoded data removed]",
      "text/plain": [
       "<Figure size 640x480 with 1 Axes>"
      ]
     },
     "metadata": {},
     "output_type": "display_data"
    }
   ],
   "source": [
    "import numpy as np\n",
    "import matplotlib.pyplot as plt\n",
    "\n",
    "from sklearn.cluster import KMeans\n",
    "\n",
    "ingresos = np.random.randint(15, 100, 500)\n",
    "puntuacion = np.random.randint(1, 100, 500)\n",
    "\n",
    "X = np.column_stack([ingresos, puntuacion])\n",
    "\n",
    "inercia = []\n",
    "for k in range(1, 11):\n",
    "    kmeans = KMeans(n_clusters = k, random_state = 42)\n",
    "    kmeans.fit(X)\n",
    "    inercia.append(kmeans.inertia_)\n",
    "\n",
    "plt.plot(range(1, 11), inercia, marker = 'o')\n",
    "plt.xlabel('Número de Clusters (k)')\n",
    "plt.ylabel('Inercia')\n",
    "plt.title('Método del codo')\n",
    "\n",
    "plt.show()"
   ]
  }
 ],
 "metadata": {
  "kernelspec": {
   "display_name": "Python 3",
   "language": "python",
   "name": "python3"
  },
  "language_info": {
   "codemirror_mode": {
    "name": "ipython",
    "version": 3
   },
   "file_extension": ".py",
   "mimetype": "text/x-python",
   "name": "python",
   "nbconvert_exporter": "python",
   "pygments_lexer": "ipython3",
   "version": "3.10.10"
  }
 },
 "nbformat": 4,
 "nbformat_minor": 5
}
